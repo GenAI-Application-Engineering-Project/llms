{
 "cells": [
  {
   "cell_type": "markdown",
   "id": "36d9dd12",
   "metadata": {},
   "source": [
    "# Day2 - Gradio!"
   ]
  },
  {
   "cell_type": "code",
   "execution_count": null,
   "id": "2cd261c1",
   "metadata": {},
   "outputs": [],
   "source": [
    "import os\n",
    "os.chdir('..')\n",
    "\n",
    "from utils.utils import load_env_variables\n",
    "from agents.agents_v2 import ClaudeAgent, OpenAIAgent\n",
    "from scraper.scraper import SoupScraper"
   ]
  },
  {
   "cell_type": "code",
   "execution_count": null,
   "id": "ef6086d4",
   "metadata": {},
   "outputs": [],
   "source": [
    "import gradio as gr"
   ]
  },
  {
   "cell_type": "code",
   "execution_count": null,
   "id": "9ef5f564",
   "metadata": {},
   "outputs": [],
   "source": [
    "load_env_variables()"
   ]
  },
  {
   "cell_type": "code",
   "execution_count": null,
   "id": "61a6e470",
   "metadata": {},
   "outputs": [],
   "source": [
    "system_message = \"You are a helpful assistant\""
   ]
  },
  {
   "cell_type": "code",
   "execution_count": null,
   "id": "d72c2c52",
   "metadata": {},
   "outputs": [],
   "source": [
    "def message_gpt(prompt: str):\n",
    "    agent = OpenAIAgent()\n",
    "    return agent.respond(system_message, prompt)"
   ]
  },
  {
   "cell_type": "code",
   "execution_count": null,
   "id": "a1d057ff",
   "metadata": {},
   "outputs": [],
   "source": [
    "def stream_gpt(prompt: str):\n",
    "    agent = OpenAIAgent()\n",
    "    response = agent.respond_with_stream(system_message, prompt)\n",
    "    for message in response:\n",
    "        yield message"
   ]
  },
  {
   "cell_type": "code",
   "execution_count": null,
   "id": "9751a3a0",
   "metadata": {},
   "outputs": [],
   "source": [
    "message_gpt(\"What is today's date?\")"
   ]
  },
  {
   "cell_type": "markdown",
   "id": "472eb882",
   "metadata": {},
   "source": [
    "## User Interface!"
   ]
  },
  {
   "cell_type": "code",
   "execution_count": null,
   "id": "20cc76ea",
   "metadata": {},
   "outputs": [],
   "source": [
    "def shout(text):\n",
    "    print(f\"Shout has been called with input {text}\")\n",
    "    return text.upper()"
   ]
  },
  {
   "cell_type": "code",
   "execution_count": null,
   "id": "47ab3bdd",
   "metadata": {},
   "outputs": [],
   "source": [
    "shout(\"hello\")"
   ]
  },
  {
   "cell_type": "code",
   "execution_count": null,
   "id": "d2915c71",
   "metadata": {},
   "outputs": [],
   "source": [
    "gr.Interface(\n",
    "    fn=shout, inputs=\"textbox\", outputs=\"textbox\", flagging_mode=\"never\"\n",
    ").launch(inbrowser=True)"
   ]
  },
  {
   "cell_type": "code",
   "execution_count": null,
   "id": "4da797a6-9caf-4265-a75d-7dd95ec96da5",
   "metadata": {},
   "outputs": [],
   "source": [
    "# Define this variable and then pass js=force_dark_mode when creating the Interface\n",
    "\n",
    "force_dark_mode = \"\"\"\n",
    "function refresh() {\n",
    "    const url = new URL(window.location);\n",
    "    if (url.searchParams.get('__theme') !== 'light') {\n",
    "        url.searchParams.set('__theme', 'light');\n",
    "        window.location.href = url.href;\n",
    "    }\n",
    "}\n",
    "\"\"\"\n",
    "gr.Interface(\n",
    "    fn=shout, inputs=\"textbox\", outputs=\"textbox\", flagging_mode=\"never\", js=force_dark_mode\n",
    ").launch()"
   ]
  },
  {
   "cell_type": "code",
   "execution_count": null,
   "id": "9122df62",
   "metadata": {},
   "outputs": [],
   "source": [
    "view = gr.Interface(\n",
    "    fn=message_gpt,\n",
    "    inputs=[gr.Textbox(label=\"Your message:\", lines=6)],\n",
    "    outputs=[gr.Textbox(label=\"Response:\", lines=8)],\n",
    "    flagging_mode=\"never\"\n",
    ")\n",
    "view.launch()"
   ]
  },
  {
   "cell_type": "code",
   "execution_count": null,
   "id": "c8ec0192",
   "metadata": {},
   "outputs": [],
   "source": [
    "system_message = \"You are a helpful assistant that responds in markdown\"\n",
    "\n",
    "view = gr.Interface(\n",
    "    fn=message_gpt,\n",
    "    inputs=[gr.Textbox(label=\"Your message:\")],\n",
    "    outputs=[gr.Markdown(label=\"Response:\")],\n",
    "    flagging_mode=\"never\"\n",
    ")\n",
    "view.launch()"
   ]
  },
  {
   "cell_type": "code",
   "execution_count": null,
   "id": "036251b2",
   "metadata": {},
   "outputs": [],
   "source": [
    "system_message = \"You are a helpful assistant that responds in markdown\"\n",
    "\n",
    "view = gr.Interface(\n",
    "    fn=stream_gpt,\n",
    "    inputs=[gr.Textbox(label=\"Your message:\")],\n",
    "    outputs=[gr.Markdown(label=\"Response:\")],\n",
    "    flagging_mode=\"never\"\n",
    ")\n",
    "view.launch()"
   ]
  },
  {
   "cell_type": "code",
   "execution_count": null,
   "id": "7153c172-c5a3-4b79-9c4a-e3148c60f4ba",
   "metadata": {},
   "outputs": [],
   "source": [
    "def stream_claude(prompt: str):\n",
    "    agent = ClaudeAgent()\n",
    "    response = agent.respond_with_stream(system_message, prompt)\n",
    "    for message in response:\n",
    "        yield message"
   ]
  },
  {
   "cell_type": "code",
   "execution_count": null,
   "id": "b4bf75ea",
   "metadata": {},
   "outputs": [],
   "source": [
    "view = gr.Interface(\n",
    "    fn=stream_claude,\n",
    "    inputs=[gr.Textbox(label=\"Your message:\")],\n",
    "    outputs=[gr.Markdown(label=\"Response:\")],\n",
    "    flagging_mode=\"never\",\n",
    ")\n",
    "view.launch()"
   ]
  },
  {
   "cell_type": "markdown",
   "id": "7e349f97-295a-49f5-b6bb-3823573a7e53",
   "metadata": {},
   "source": [
    "## Create Company Brochure"
   ]
  },
  {
   "cell_type": "code",
   "execution_count": null,
   "id": "f98d1234",
   "metadata": {},
   "outputs": [],
   "source": [
    "system_message = (\n",
    "    \"You are an assistant that analyzes the contents of \"\n",
    "    \"a company website landing page and creates a short \"\n",
    "    \"brochure about the company for prospective customers, \"\n",
    "    \"investors and recruits. Respond in markdown.\"\n",
    ")"
   ]
  },
  {
   "cell_type": "code",
   "execution_count": null,
   "id": "5edb1869",
   "metadata": {},
   "outputs": [],
   "source": [
    "def stream_brochure(company_name: str, url: str, model: str):\n",
    "    scraper = SoupScraper(url=url)\n",
    "    prompt = (\n",
    "        f\"Please generate a company brochure for {company_name}. \"\n",
    "        f\"Here is their landing page:\\n{scraper.get_contents()}\"\n",
    "    )\n",
    "    if model == \"GPT\":\n",
    "        result = stream_gpt(prompt)\n",
    "    elif model == \"Claude\":\n",
    "        result = stream_claude(prompt)\n",
    "    yield from result"
   ]
  },
  {
   "cell_type": "code",
   "execution_count": null,
   "id": "ad1ed61a",
   "metadata": {},
   "outputs": [],
   "source": [
    "view = gr.Interface(\n",
    "    fn=stream_brochure,\n",
    "    inputs=[\n",
    "        gr.Textbox(label=\"Company Name:\"),\n",
    "        gr.Textbox(label=\"Company URL:\"),\n",
    "        gr.Dropdown([\"GPT\", \"Claude\"], label=\"Select Model\"),\n",
    "    ],\n",
    "    outputs=[gr.Markdown(label=\"Brochure:\")],\n",
    "    flagging_mode=\"never\"\n",
    ")\n",
    "view.launch()"
   ]
  },
  {
   "cell_type": "code",
   "execution_count": null,
   "id": "5c41d307-0f64-4e2b-8d17-734f828cb4d9",
   "metadata": {},
   "outputs": [],
   "source": []
  }
 ],
 "metadata": {
  "kernelspec": {
   "display_name": "Python 3 (ipykernel)",
   "language": "python",
   "name": "python3"
  },
  "language_info": {
   "codemirror_mode": {
    "name": "ipython",
    "version": 3
   },
   "file_extension": ".py",
   "mimetype": "text/x-python",
   "name": "python",
   "nbconvert_exporter": "python",
   "pygments_lexer": "ipython3",
   "version": "3.13.4"
  }
 },
 "nbformat": 4,
 "nbformat_minor": 5
}
