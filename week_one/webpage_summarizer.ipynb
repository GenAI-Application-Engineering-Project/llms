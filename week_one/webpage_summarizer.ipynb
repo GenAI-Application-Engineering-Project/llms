{
 "cells": [
  {
   "cell_type": "markdown",
   "id": "c97e6e4b",
   "metadata": {},
   "source": [
    "# Webpage Summarizer"
   ]
  },
  {
   "cell_type": "markdown",
   "id": "8d32aef6",
   "metadata": {},
   "source": [
    "Summarizes the content of a web page.\n",
    "- Scrape the content of the web page\n",
    "- Ask AI to summarize the content\n",
    "- Display the content"
   ]
  },
  {
   "cell_type": "code",
   "execution_count": null,
   "id": "d1db122f",
   "metadata": {},
   "outputs": [],
   "source": [
    "import os\n",
    "os.chdir('..')"
   ]
  },
  {
   "cell_type": "code",
   "execution_count": null,
   "id": "378e8625",
   "metadata": {},
   "outputs": [],
   "source": [
    "from typing import Dict, List\n",
    "from IPython.display import Markdown, display\n",
    "from scraper.scraper import SoupScraper, Website\n",
    "from utils.utils import load_env_variables\n",
    "from agents.agents import Agent, OpenAIAgent, OllamaAIAgent\n",
    "from week_one.summarizer import Summarizer\n",
    "from utils.utils import create_message"
   ]
  },
  {
   "cell_type": "code",
   "execution_count": null,
   "id": "a0471d73",
   "metadata": {},
   "outputs": [],
   "source": [
    "def summarize_page(model: str,  agent: Agent, messages: List[Dict[str, str]]):\n",
    "    summary = agent.respond_with(model, messages)\n",
    "    display(Markdown(summary))"
   ]
  },
  {
   "cell_type": "code",
   "execution_count": null,
   "id": "8edb69f7",
   "metadata": {},
   "outputs": [],
   "source": [
    "def summarize_with_OpenAI(messages: List[Dict[str, str]]):\n",
    "    load_env_variables()\n",
    "    model = \"gpt-4o-mini\"\n",
    "    agent = OpenAIAgent()\n",
    "    summarize_page(model, agent, messages)"
   ]
  },
  {
   "cell_type": "code",
   "execution_count": null,
   "id": "2fe5d75f",
   "metadata": {},
   "outputs": [],
   "source": [
    "def summarize_with_llama(messages: List[Dict[str, str]]):\n",
    "    model = \"llama3.2\"\n",
    "    agent = OllamaAIAgent()\n",
    "    summarize_page(model, agent, messages)"
   ]
  },
  {
   "cell_type": "code",
   "execution_count": null,
   "id": "8300f74b",
   "metadata": {},
   "outputs": [],
   "source": [
    "url = \"https://edwarddonner.com\""
   ]
  },
  {
   "cell_type": "code",
   "execution_count": null,
   "id": "e70a87a4",
   "metadata": {},
   "outputs": [],
   "source": [
    "scraper = SoupScraper(url)\n",
    "website = Website(\n",
    "    url=scraper.get_url(),\n",
    "    title=scraper.get_title(),\n",
    "    body=scraper.get_body(),\n",
    "    links=scraper.get_links()\n",
    ")"
   ]
  },
  {
   "cell_type": "code",
   "execution_count": null,
   "id": "d2d42d0b",
   "metadata": {},
   "outputs": [],
   "source": [
    "summarizer = Summarizer()\n",
    "messages = create_message(\n",
    "    summarizer.get_system_prompt(), \n",
    "    summarizer.get_user_prompt(website)\n",
    ")"
   ]
  },
  {
   "cell_type": "code",
   "execution_count": null,
   "id": "0645de11",
   "metadata": {},
   "outputs": [],
   "source": [
    "summarize_with_OpenAI(messages=messages)"
   ]
  },
  {
   "cell_type": "code",
   "execution_count": null,
   "id": "e8405c3b",
   "metadata": {},
   "outputs": [],
   "source": [
    "summarize_with_llama(messages=messages)"
   ]
  }
 ],
 "metadata": {
  "kernelspec": {
   "display_name": ".venv",
   "language": "python",
   "name": "python3"
  },
  "language_info": {
   "codemirror_mode": {
    "name": "ipython",
    "version": 3
   },
   "file_extension": ".py",
   "mimetype": "text/x-python",
   "name": "python",
   "nbconvert_exporter": "python",
   "pygments_lexer": "ipython3",
   "version": "3.13.4"
  }
 },
 "nbformat": 4,
 "nbformat_minor": 5
}
