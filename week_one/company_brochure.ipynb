{
 "cells": [
  {
   "cell_type": "markdown",
   "id": "17b84039",
   "metadata": {},
   "source": [
    "# Company Brochure"
   ]
  },
  {
   "cell_type": "markdown",
   "id": "efd45372",
   "metadata": {},
   "source": [
    "Uses a given url to gather information about a company and creates a brochure with it.\n",
    "- Scrape the url and for contents and useful links\n",
    "- Ask AI Agent to trim the links and return only useful links\n",
    "- Scrape the content of the useful links\n",
    "- Concatenate all the contents together\n",
    "- Ask AI Agent to create a brochure with the contents\n",
    "- Display the brochure"
   ]
  },
  {
   "cell_type": "code",
   "execution_count": null,
   "id": "8b192148",
   "metadata": {},
   "outputs": [],
   "source": [
    "import os\n",
    "os.chdir('..')"
   ]
  },
  {
   "cell_type": "code",
   "execution_count": null,
   "id": "49c5b46a",
   "metadata": {},
   "outputs": [],
   "source": [
    "from IPython.display import Markdown, display\n",
    "from scraper.scraper import SoupScraper, Website\n",
    "from utils.utils import load_env_variables\n",
    "from week_one.company_brochure import MessageCreator\n",
    "from agents.agents import Agent, OpenAIAgent"
   ]
  },
  {
   "cell_type": "markdown",
   "id": "f2c55d88",
   "metadata": {},
   "source": [
    "Get details required to create the brochure from the website url"
   ]
  },
  {
   "cell_type": "code",
   "execution_count": null,
   "id": "ac3fb159",
   "metadata": {},
   "outputs": [],
   "source": [
    "def get_useful_links(website: Website, agent: Agent, model: str):\n",
    "    msgCreator = MessageCreator()\n",
    "    messages = msgCreator.create_links_message(website)\n",
    "    response = agent.respond_with_json(model, messages)\n",
    "    return response"
   ]
  },
  {
   "cell_type": "code",
   "execution_count": null,
   "id": "6fed0014",
   "metadata": {},
   "outputs": [],
   "source": [
    "def scrape_url(url: str) -> Website:\n",
    "    scraper = SoupScraper(url)\n",
    "    return scraper.get_website_content()"
   ]
  },
  {
   "cell_type": "code",
   "execution_count": null,
   "id": "a7cd7e92",
   "metadata": {},
   "outputs": [],
   "source": [
    "def get_website_content(website: Website) -> str:\n",
    "    return f\"Webpage Title:\\n{website.title}\\nWebpage Contents:\\n{website.body}\\n\\n\""
   ]
  },
  {
   "cell_type": "code",
   "execution_count": null,
   "id": "402d64da",
   "metadata": {},
   "outputs": [],
   "source": [
    "def get_details(url: str, agent: Agent, model: str) -> str:\n",
    "    result = \"Landing page:\\n\"\n",
    "    website = scrape_url(url)\n",
    "    result += get_website_content(website)\n",
    "    \n",
    "    links = get_useful_links(website, agent, model)\n",
    "    for link in links[\"links\"]:\n",
    "        if link:\n",
    "            result += f\"\\n\\n{link['type']}\\n\"\n",
    "            website = scrape_url(link['url'])\n",
    "            result += get_website_content(website)\n",
    "        \n",
    "    return result"
   ]
  },
  {
   "cell_type": "code",
   "execution_count": null,
   "id": "9b645881",
   "metadata": {},
   "outputs": [],
   "source": [
    "def create_brochure(company_name: str, url: str, agent: Agent, model: str):\n",
    "    msgCreator = MessageCreator()\n",
    "    messages = msgCreator.create_brochure_message(\n",
    "        company_name, get_details(url, agent, model)\n",
    "    )\n",
    "    response = agent.respond_with(model, messages)\n",
    "    display(Markdown(response))"
   ]
  },
  {
   "cell_type": "code",
   "execution_count": null,
   "id": "e034b07a",
   "metadata": {},
   "outputs": [],
   "source": [
    "company_name = \"HuggingFace\"\n",
    "company_url = \"https://huggingface.co\""
   ]
  },
  {
   "cell_type": "code",
   "execution_count": null,
   "id": "bcb3fd25",
   "metadata": {},
   "outputs": [],
   "source": [
    "load_env_variables()  # loads open ai key"
   ]
  },
  {
   "cell_type": "code",
   "execution_count": null,
   "id": "39472b8b",
   "metadata": {},
   "outputs": [],
   "source": [
    "openai_agent = OpenAIAgent()\n",
    "model = \"gpt-4o-mini\"\n",
    "create_brochure(company_name, company_url, openai_agent, model)"
   ]
  },
  {
   "cell_type": "code",
   "execution_count": null,
   "id": "965816c2-b6d6-4783-9d8b-b42acea66825",
   "metadata": {},
   "outputs": [],
   "source": []
  }
 ],
 "metadata": {
  "kernelspec": {
   "display_name": "Python 3 (ipykernel)",
   "language": "python",
   "name": "python3"
  },
  "language_info": {
   "codemirror_mode": {
    "name": "ipython",
    "version": 3
   },
   "file_extension": ".py",
   "mimetype": "text/x-python",
   "name": "python",
   "nbconvert_exporter": "python",
   "pygments_lexer": "ipython3",
   "version": "3.13.4"
  }
 },
 "nbformat": 4,
 "nbformat_minor": 5
}
