{
 "cells": [
  {
   "cell_type": "markdown",
   "id": "412aef60",
   "metadata": {},
   "source": [
    "# Code Analyzer"
   ]
  },
  {
   "cell_type": "markdown",
   "id": "e1f0af3f",
   "metadata": {},
   "source": [
    "Provides a summary of the behavior of a block of code and (optionally) ways to improve the code."
   ]
  },
  {
   "cell_type": "code",
   "execution_count": null,
   "id": "99b6aa2b",
   "metadata": {},
   "outputs": [],
   "source": [
    "import os\n",
    "os.chdir('..')\n",
    "\n",
    "from week_one.code_agent import CodeAnalyzer\n",
    "from IPython.display import Markdown, display"
   ]
  },
  {
   "cell_type": "markdown",
   "id": "75ac5143",
   "metadata": {},
   "source": [
    "Enter code to analyze in the cell below:"
   ]
  },
  {
   "cell_type": "code",
   "execution_count": null,
   "id": "742f24bf",
   "metadata": {},
   "outputs": [],
   "source": [
    "code = \"\"\"\n",
    "Please explain what this code does and why:\n",
    "yield from {book.get(\"author\") for book in books if book.get(\"author\")}\n",
    "\"\"\"\n",
    "\n",
    "agent = CodeAnalyzer(code)"
   ]
  },
  {
   "cell_type": "markdown",
   "id": "12687ade",
   "metadata": {},
   "source": [
    "Analyze with Llama"
   ]
  },
  {
   "cell_type": "code",
   "execution_count": null,
   "id": "c6873f1a",
   "metadata": {},
   "outputs": [],
   "source": [
    "model = \"llama3.2\"\n",
    "result = agent.analyze_with_llama(model)\n",
    "display(Markdown(result))"
   ]
  },
  {
   "cell_type": "markdown",
   "id": "b3ac8cf1",
   "metadata": {},
   "source": [
    "Analyze with Open AI"
   ]
  },
  {
   "cell_type": "code",
   "execution_count": null,
   "id": "22f90d59",
   "metadata": {},
   "outputs": [],
   "source": [
    "model = \"gpt-4o-mini\"\n",
    "result = agent.analyze_with_openai(model)\n",
    "display(Markdown(result))"
   ]
  },
  {
   "cell_type": "code",
   "execution_count": null,
   "id": "d55e923b-c0b7-4593-9fc5-ee3221db4d46",
   "metadata": {},
   "outputs": [],
   "source": []
  }
 ],
 "metadata": {
  "kernelspec": {
   "display_name": "Python 3 (ipykernel)",
   "language": "python",
   "name": "python3"
  },
  "language_info": {
   "codemirror_mode": {
    "name": "ipython",
    "version": 3
   },
   "file_extension": ".py",
   "mimetype": "text/x-python",
   "name": "python",
   "nbconvert_exporter": "python",
   "pygments_lexer": "ipython3",
   "version": "3.13.4"
  }
 },
 "nbformat": 4,
 "nbformat_minor": 5
}
