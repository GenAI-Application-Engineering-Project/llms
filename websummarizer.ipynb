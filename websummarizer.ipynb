{
 "cells": [
  {
   "cell_type": "markdown",
   "id": "21799da0",
   "metadata": {},
   "source": [
    "# Web Page Summarizer"
   ]
  },
  {
   "cell_type": "markdown",
   "id": "9e612035",
   "metadata": {},
   "source": [
    "Web provides a summary of the content of a web page using a combination of some sort of scraper and an LLM."
   ]
  },
  {
   "cell_type": "markdown",
   "id": "dff50515",
   "metadata": {},
   "source": [
    "## Imports"
   ]
  },
  {
   "cell_type": "markdown",
   "id": "69045b75",
   "metadata": {},
   "source": [
    "We need to import the modules required for our labs to run successfully."
   ]
  },
  {
   "cell_type": "code",
   "execution_count": 1,
   "id": "596f2c56",
   "metadata": {},
   "outputs": [],
   "source": [
    "from IPython.display import Markdown, display\n",
    "from scraper.scraper import SoupScraper\n",
    "from utils.utils import load_env_variables\n",
    "from webpage_summarizer.summarizer import (\n",
    "    OllamaSummarizer, OpenAISummarizer, Summarizer, Website\n",
    ")"
   ]
  },
  {
   "cell_type": "markdown",
   "id": "dee898d6",
   "metadata": {},
   "source": [
    "In this lab, we will try out we b page summarization using a number of LLMs, some of which require API keys. We will load the keys to ensure they are available to connect to the endpoints exposed by the LLMs."
   ]
  },
  {
   "cell_type": "code",
   "execution_count": 2,
   "id": "63a66301",
   "metadata": {},
   "outputs": [
    {
     "name": "stdout",
     "output_type": "stream",
     "text": [
      "API key found and looks good so far!\n"
     ]
    }
   ],
   "source": [
    "load_env_variables()"
   ]
  },
  {
   "cell_type": "markdown",
   "id": "02ce226e",
   "metadata": {},
   "source": [
    "## The URL"
   ]
  },
  {
   "cell_type": "markdown",
   "id": "54a31f32",
   "metadata": {},
   "source": [
    "The url of the website to be summarized is needed by the other utilities that need to read and parse the content. Some of the scrapers we will be using do not work well with dynamic content web pages. You can replace the url with the url of a website you'd like to summarize."
   ]
  },
  {
   "cell_type": "code",
   "execution_count": 3,
   "id": "4cd010c2",
   "metadata": {},
   "outputs": [],
   "source": [
    "url = \"https://edwarddonner.com\""
   ]
  },
  {
   "cell_type": "markdown",
   "id": "2fbd774c",
   "metadata": {},
   "source": [
    "## Scrape the Web Page"
   ]
  },
  {
   "cell_type": "markdown",
   "id": "88eae1e5",
   "metadata": {},
   "source": [
    "We first scrape the content of the web page and use as input to the llms."
   ]
  },
  {
   "cell_type": "code",
   "execution_count": 4,
   "id": "d8034521",
   "metadata": {},
   "outputs": [],
   "source": [
    "scraper = SoupScraper(url)\n",
    "website = Website(\n",
    "    url=scraper.get_url(),\n",
    "    title=scraper.get_title(),\n",
    "    body=scraper.get_body()\n",
    ")"
   ]
  },
  {
   "cell_type": "code",
   "execution_count": 5,
   "id": "728dd5a3",
   "metadata": {},
   "outputs": [],
   "source": [
    "def print_summary(summarizer: Summarizer):\n",
    "    summary = summarizer.summarize()\n",
    "    display(Markdown(summary))"
   ]
  },
  {
   "cell_type": "markdown",
   "id": "511aecf3",
   "metadata": {},
   "source": [
    "## Summarize with Ollama"
   ]
  },
  {
   "cell_type": "code",
   "execution_count": 6,
   "id": "8de25716",
   "metadata": {},
   "outputs": [
    {
     "data": {
      "text/markdown": [
       "# Website Summary\n",
       "\n",
       "**Overview**\n",
       "Edward Donner's website showcases his expertise and work in the field of Artificial Intelligence (AI) and Llama models. He is the co-founder and CTO of Nebula.io, an AI startup that applies LLMs to help people discover their potential.\n",
       "\n",
       "### Recent News and Announcements\n",
       "* **2025**: Multiple courses were released or announced:\n",
       "\t+ Connecting my courses – become an LLM expert and leader (May 28, 2025)\n",
       "\t+ The Complete Agentic AI Engineering Course (January 23, 2025)\n",
       "\t+ LLM Workshop – Hands-on with Agents – resources\n",
       "* **2021**: His startup, untapt, was acquired.\n",
       "\n",
       "### About the Website Owner\n",
       "Edward Donner is a writer, DJ, and amateur electronic music producer who enjoys experimenting with LLMs. He shares his interests and work on his website, providing insights into AI and its applications."
      ],
      "text/plain": [
       "<IPython.core.display.Markdown object>"
      ]
     },
     "metadata": {},
     "output_type": "display_data"
    }
   ],
   "source": [
    "ollama_summarizer = OllamaSummarizer(website)\n",
    "print_summary(ollama_summarizer)"
   ]
  },
  {
   "cell_type": "markdown",
   "id": "caba5f7e",
   "metadata": {},
   "source": [
    "## Summarize with OpenAP"
   ]
  },
  {
   "cell_type": "code",
   "execution_count": 7,
   "id": "e6ef4a1f",
   "metadata": {},
   "outputs": [
    {
     "data": {
      "text/markdown": [
       "# Summary of Edward Donner's Website\n",
       "\n",
       "The website, titled \"Home - Edward Donner,\" features the personal and professional endeavors of Ed Donner. He is a software developer with a keen interest in LLMs (Large Language Models) and is the co-founder and CTO of Nebula.io, a company that applies AI to talent management. Ed's background includes founding the AI startup untapt, which was acquired in 2021. He is also interested in music, specifically DJing and amateur electronic music production.\n",
       "\n",
       "## Recent Announcements\n",
       "The website includes several upcoming events and courses related to LLMs:\n",
       "- **Connecting my courses – become an LLM expert and leader** - May 28, 2025\n",
       "- **2025 AI Executive Briefing** - May 18, 2025\n",
       "- **The Complete Agentic AI Engineering Course** - April 21, 2025\n",
       "- **LLM Workshop – Hands-on with Agents – resources** - January 23, 2025\n",
       "\n",
       "Ed encourages users to connect with him through various platforms and engage with his content."
      ],
      "text/plain": [
       "<IPython.core.display.Markdown object>"
      ]
     },
     "metadata": {},
     "output_type": "display_data"
    }
   ],
   "source": [
    "openai_summarizer = OpenAISummarizer(website)\n",
    "print_summary(openai_summarizer)"
   ]
  },
  {
   "cell_type": "code",
   "execution_count": null,
   "id": "20c3eb27-01ec-4f06-9b01-02c21424f07c",
   "metadata": {},
   "outputs": [],
   "source": []
  }
 ],
 "metadata": {
  "kernelspec": {
   "display_name": "Python (myenv)",
   "language": "python",
   "name": "myenv"
  },
  "language_info": {
   "codemirror_mode": {
    "name": "ipython",
    "version": 3
   },
   "file_extension": ".py",
   "mimetype": "text/x-python",
   "name": "python",
   "nbconvert_exporter": "python",
   "pygments_lexer": "ipython3",
   "version": "3.13.4"
  }
 },
 "nbformat": 4,
 "nbformat_minor": 5
}
